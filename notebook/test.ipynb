{
 "cells": [
  {
   "cell_type": "code",
   "execution_count": 18,
   "metadata": {},
   "outputs": [
    {
     "name": "stdout",
     "output_type": "stream",
     "text": [
      "(19946, 13)\n",
      "    Price       Type_property  Number_bedrooms  Living_area  \\\n",
      "0  185000  mixed-use-building                4          226   \n",
      "1  295000               house                6          229   \n",
      "2  150000           apartment                1           48   \n",
      "3  370000              duplex                3          175   \n",
      "4  190000               house                5          145   \n",
      "\n",
      "   fully_equipped_kitchen  Furnished  terrace  garden  facades_number  \\\n",
      "0                       1          0        0       0               3   \n",
      "1                       1          0        0       0               4   \n",
      "2                       0          0        0       0               4   \n",
      "3                       0          0        1       0               2   \n",
      "4                       0          0        0       0               2   \n",
      "\n",
      "   Swimming_pool building_state  fire_place   provinces  \n",
      "0              0  To be done up           0  Luxembourg  \n",
      "1              0    To renovate           0  Luxembourg  \n",
      "2              0         As new           0  Luxembourg  \n",
      "3              0         As new           0   E.Fanders  \n",
      "4              0  To be done up           0     Hainaut  \n"
     ]
    }
   ],
   "source": [
    "import pandas as pd \n",
    "import numpy as np \n",
    "\n",
    "Liege_data = pd.read_csv(r\"C:\\Users\\feldm\\Documents\\GitHub\\real-estate-price-prediction\\data\\cleaned_two.csv\")\n",
    "Liege_data.drop(\"Unnamed: 0\", inplace=True,axis=1)\n",
    "print(Liege_data.shape)\n",
    "print(Liege_data.head())\n"
   ]
  },
  {
   "cell_type": "code",
   "execution_count": 19,
   "metadata": {},
   "outputs": [
    {
     "name": "stdout",
     "output_type": "stream",
     "text": [
      "(1915, 13)\n",
      "       Price    Type_property  Number_bedrooms  Living_area  \\\n",
      "3453  289000            house                4          270   \n",
      "3454  290000  apartment-block                4          183   \n",
      "3455  299000            house                4          243   \n",
      "3456  299000  apartment-block                6          301   \n",
      "3457  349500            house                4          202   \n",
      "\n",
      "      fully_equipped_kitchen  Furnished  terrace  garden  facades_number  \\\n",
      "3453                       1          0        1       0               2   \n",
      "3454                       1          0        1       0               3   \n",
      "3455                       1          0        0       0               2   \n",
      "3456                       0          0        1       0               2   \n",
      "3457                       0          0        0       0               3   \n",
      "\n",
      "      Swimming_pool building_state  fire_place  \n",
      "3453              0  To be done up           0  \n",
      "3454              0    To renovate           0  \n",
      "3455              0  To be done up           0  \n",
      "3456              0           Good           0  \n",
      "3457              0           Good           0  \n"
     ]
    }
   ],
   "source": [
    "Liege_data = Liege_data.loc[Liege_data['provinces'] == \"Liege\"]\n",
    "#Liege_data = Liege_data.loc[Liege_data['Type_property'] == \"house\"]\n",
    "print(Liege_data.shape)\n",
    "\n",
    "Liege_data.drop(\"provinces\",axis=1,inplace=True)\n",
    "print(Liege_data.head())\n",
    "\n",
    "#drop type property for now \n",
    "Liege_data.to_csv(\"Liege.csv\")"
   ]
  }
 ],
 "metadata": {
  "kernelspec": {
   "display_name": "scrappy",
   "language": "python",
   "name": "python3"
  },
  "language_info": {
   "codemirror_mode": {
    "name": "ipython",
    "version": 3
   },
   "file_extension": ".py",
   "mimetype": "text/x-python",
   "name": "python",
   "nbconvert_exporter": "python",
   "pygments_lexer": "ipython3",
   "version": "3.11.0"
  },
  "orig_nbformat": 4,
  "vscode": {
   "interpreter": {
    "hash": "456673b175213a59691ddae7563f6c552706ad8803eaabf7fe5cd8937a9be15f"
   }
  }
 },
 "nbformat": 4,
 "nbformat_minor": 2
}
