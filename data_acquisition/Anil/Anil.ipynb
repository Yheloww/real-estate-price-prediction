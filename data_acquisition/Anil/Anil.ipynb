{
 "cells": [
  {
   "cell_type": "code",
   "execution_count": 3,
   "metadata": {},
   "outputs": [],
   "source": [
    "from bs4 import BeautifulSoup\n",
    "from selenium import webdriver\n",
    "import time\n",
    "import json\n",
    "import pandas as pd\n",
    "\n",
    "for i in range(1, 2):\n",
    "    page_num = str(i) + \"&orderBy=relevance\"\n",
    "    url = (\n",
    "        \"https://www.immoweb.be/en/search/house-and-apartment/for-sale?countries=BE&page=\" + page_num\n",
    "    )\n",
    "    list_of_properties = []\n",
    "    # I'm giving a break because it needs \n",
    "    time.sleep(\n",
    "        30\n",
    "    )  \n",
    "\n",
    "    driver = webdriver.Chrome(executable_path=\"driver/chromedriver\")\n",
    "    driver.get(url)\n",
    "\n",
    "    soup = BeautifulSoup(driver.page_source, \"html.parser\")\n",
    "\n",
    "\n",
    "    listings = soup.find_all(\"a\", class_=\"card__title-link\")\n",
    "\n",
    "    for pages in listings:  \n",
    "\n",
    "        property_details = {}\n",
    "        driver.get(pages[\"href\"]) # get the response from the url\n",
    "        property_details_page = BeautifulSoup(driver.page_source, \"html.parser\")\n"
   ]
  },
  {
   "cell_type": "code",
   "execution_count": null,
   "metadata": {},
   "outputs": [],
   "source": []
  }
 ],
 "metadata": {
  "kernelspec": {
   "display_name": "Python 3",
   "language": "python",
   "name": "python3"
  },
  "language_info": {
   "codemirror_mode": {
    "name": "ipython",
    "version": 3
   },
   "file_extension": ".py",
   "mimetype": "text/x-python",
   "name": "python",
   "nbconvert_exporter": "python",
   "pygments_lexer": "ipython3",
   "version": "3.11.1"
  },
  "orig_nbformat": 4,
  "vscode": {
   "interpreter": {
    "hash": "aee8b7b246df8f9039afb4144a1f6fd8d2ca17a180786b69acc140d282b71a49"
   }
  }
 },
 "nbformat": 4,
 "nbformat_minor": 2
}
