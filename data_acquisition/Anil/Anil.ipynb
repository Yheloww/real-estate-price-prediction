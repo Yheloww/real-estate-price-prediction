{
 "cells": [
  {
   "cell_type": "code",
   "execution_count": 3,
   "metadata": {},
   "outputs": [],
   "source": [
    "from bs4 import BeautifulSoup\n",
    "from selenium import webdriver\n",
    "import pandas as pd\n",
    "from csv import writer\n",
    "\n",
    "for i in range(1, 2):\n",
    "    page_num = str(i) + \"&orderBy=relevance\"\n",
    "    url = (\n",
    "        \"https://www.immoweb.be/en/search/house/for-sale?countries=BE&page=\" + page_num\n",
    "    )\n",
    "    list_of_properties = []\n",
    "\n",
    "    driver = webdriver.Chrome(executable_path=\"driver/chromedriver\")\n",
    "    driver.get(url)\n",
    "\n",
    "    soup = BeautifulSoup(driver.page_source, \"html.parser\")\n",
    "    listings = soup.find_all(\"a\", class_=\"card__title-link\")\n",
    "\n",
    "    for pages in listings:  \n",
    "\n",
    "        property_details = {}\n",
    "        driver.get(pages[\"href\"]) \n",
    "        property_details_page = BeautifulSoup(driver.page_source, \"html.parser\")\n",
    "\n",
    "        script_list = property_details_page.find_all(\"script\")\n"
   ]
  },
  {
   "cell_type": "code",
   "execution_count": null,
   "metadata": {},
   "outputs": [],
   "source": []
  }
 ],
 "metadata": {
  "kernelspec": {
   "display_name": "Python 3",
   "language": "python",
   "name": "python3"
  },
  "language_info": {
   "codemirror_mode": {
    "name": "ipython",
    "version": 3
   },
   "file_extension": ".py",
   "mimetype": "text/x-python",
   "name": "python",
   "nbconvert_exporter": "python",
   "pygments_lexer": "ipython3",
   "version": "3.11.1 (v3.11.1:a7a450f84a, Dec  6 2022, 15:24:06) [Clang 13.0.0 (clang-1300.0.29.30)]"
  },
  "orig_nbformat": 4,
  "vscode": {
   "interpreter": {
    "hash": "aee8b7b246df8f9039afb4144a1f6fd8d2ca17a180786b69acc140d282b71a49"
   }
  }
 },
 "nbformat": 4,
 "nbformat_minor": 2
}
