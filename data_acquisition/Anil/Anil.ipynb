from bs4 import BeautifulSoup
from selenium import webdriver
import pandas as pd
from csv import writer

for i in range(1, 2):
    page_num = str(i) + "&orderBy=relevance"
    city_code = ["namur","liege","brussels","antwerp","brugge","ghent","hasselt","mechelen","dinant"]

    for z in range(0,10):

        url = ("https://www.immoweb.be/en/search/house-and-apartment/for-sale/" + str(city_code[z]) +  "/province?countries=BE&page=" + page_num
        )
        list_of_properties = []

        driver = webdriver.Chrome(executable_path="driver/chromedriver")
        driver.get(url)

        soup = BeautifulSoup(driver.page_source, "html.parser")
        listings = soup.find_all("a", class_="card__title-link")

        for pages in listings:  

            property_details = {}
            driver.get(pages["href"]) 
            property_details_page = BeautifulSoup(driver.page_source, "html.parser")

            script_list = property_details_page.find_all("script")

           
